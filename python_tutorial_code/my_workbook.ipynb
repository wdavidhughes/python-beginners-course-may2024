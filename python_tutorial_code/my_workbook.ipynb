{
 "cells": [
  {
   "cell_type": "code",
   "execution_count": 2,
   "metadata": {},
   "outputs": [
    {
     "name": "stdout",
     "output_type": "stream",
     "text": [
      "Hello world\n",
      "15\n",
      "2.0\n",
      "<class 'float'>\n",
      "<class 'int'>\n"
     ]
    }
   ],
   "source": [
    "# 17th May 2024\n",
    "# jupyter notebook good for teaching and doc but not to build app\n",
    "x = 5\n",
    "y = 10\n",
    "z = x + y\n",
    "# python will guess the data type\n",
    "# functions are lower case\n",
    "# python uses whitespace as part of the code. \n",
    "# whitespace and tabs are important\n",
    "print(\"Hello world\")\n",
    "print(z)\n",
    "\n",
    "j = y / x\n",
    "print(j) # will show decimal i.e. a float, a 64 bit \n",
    "\n",
    "print(type(j))\n",
    "print(type(z))\n",
    "# type is a class, not a function"
   ]
  },
  {
   "cell_type": "code",
   "execution_count": 14,
   "metadata": {},
   "outputs": [
    {
     "name": "stdout",
     "output_type": "stream",
     "text": [
      "240\n",
      "12.568\n"
     ]
    }
   ],
   "source": [
    "# Exercise\n",
    "a = 12\n",
    "b = 20\n",
    "c = a * b\n",
    "print(c)\n",
    "\n",
    "# calc area of a circle\n",
    "radius = 2\n",
    "pi = 3.142\n",
    "area_of_circle = pi * (radius ** 2)\n",
    "print(area_of_circle)\n"
   ]
  },
  {
   "cell_type": "code",
   "execution_count": 17,
   "metadata": {},
   "outputs": [
    {
     "name": "stdout",
     "output_type": "stream",
     "text": [
      "My name is: David, and i like rowing\n"
     ]
    }
   ],
   "source": [
    "# concatenate strings\n",
    "name = \"David\"\n",
    "hobby = \"rowing\"\n",
    "\n",
    "#create f string\n",
    "outcome = f\"My name is: {name}, and i like {hobby}\"\n",
    "print(outcome)"
   ]
  },
  {
   "cell_type": "code",
   "execution_count": 18,
   "metadata": {},
   "outputs": [
    {
     "name": "stdout",
     "output_type": "stream",
     "text": [
      "I'm David and my job title is Senior specialist\n"
     ]
    }
   ],
   "source": [
    "# exercise\n",
    "name = \"David\"\n",
    "job = \"Senior specialist\"\n",
    "name_job = f\"I'm {name} and my job title is {job}\"\n",
    "# can put other expressions into {}\n",
    "print(name_job)"
   ]
  },
  {
   "cell_type": "code",
   "execution_count": 23,
   "metadata": {},
   "outputs": [
    {
     "name": "stdout",
     "output_type": "stream",
     "text": [
      "9\n",
      "7\n",
      "456\n",
      "13579\n"
     ]
    }
   ],
   "source": [
    "# slicing strings\n",
    "# indexing starts at ZERO\n",
    "# [] for accessing slice e.g. column, row, location in a string\n",
    "\n",
    "num_string = \"123456789\"\n",
    "sub_string = num_string[8]\n",
    "print(sub_string)\n",
    "\n",
    "sub_string_right = num_string[-3] # a minus means count from the right\n",
    "print(sub_string_right)\n",
    "\n",
    "sub_range = num_string[3:-3] # start is inclusive, stop is exclusive\n",
    "print(sub_range)\n",
    "\n",
    "# step\n",
    "step_range = num_string[::2]\n",
    "print(step_range)\n",
    "\n",
    "reverse = num_string[-1::-1]"
   ]
  },
  {
   "cell_type": "code",
   "execution_count": 30,
   "metadata": {},
   "outputs": [
    {
     "name": "stdout",
     "output_type": "stream",
     "text": [
      "dog\n",
      "cat\n",
      "racoon\n"
     ]
    }
   ],
   "source": [
    "# exercise - split out the 3 words\n",
    "slice_this_phrase = \"dog cat racoon\"\n",
    "print(slice_this_phrase[0:3])\n",
    "print(slice_this_phrase[4:7])\n",
    "print(slice_this_phrase[-6:])"
   ]
  },
  {
   "cell_type": "code",
   "execution_count": null,
   "metadata": {},
   "outputs": [],
   "source": [
    "name = \"Will\"\n",
    "hobby = \"Running\"\n",
    "\n",
    "outcome = \"My name is: \" + name + \", and I like \" + hobby + \".\"\n",
    "\n",
    "print(outcome)\n",
    "\n",
    "outcome_2 = f\"My name is: {name}, and I like {hobby}.\"\n",
    "\n",
    "print(outcome_2)"
   ]
  },
  {
   "cell_type": "code",
   "execution_count": null,
   "metadata": {},
   "outputs": [],
   "source": [
    "# In this cell, initialise two appropriately named variables, one for your name and one for your job title.\n",
    "# Next, combine them in an f string, assigned to a different, appropriately named variable.\n",
    "# Finally, print the f string.\n",
    "\n",
    "name = \"Will\"\n",
    "job = \"Data Manager\"\n",
    "\n",
    "name_job = f\"My name is {name}, and I am a {job}.\"\n",
    "\n",
    "print(name_job)"
   ]
  },
  {
   "cell_type": "code",
   "execution_count": null,
   "metadata": {},
   "outputs": [],
   "source": [
    "# indexing starts at 0\n",
    "\n",
    "num_string = \"123456789\"\n",
    "\n",
    "sub_string = num_string[3]\n",
    "\n",
    "print(sub_string)\n",
    "\n",
    "# minus is from rhs\n",
    "sub_string_rhs = num_string[-3]\n",
    "\n",
    "print(sub_string_rhs)\n",
    "\n",
    "# start is INCLUSIVE, stop is EXCLUSIVE\n",
    "sub_range = num_string[3:7]\n",
    "print(sub_range)\n",
    "\n",
    "# step \n",
    "step_range = num_string[::2]\n",
    "print(step_range)\n",
    "\n",
    "reverse = num_string[-1::-1]\n",
    "print(reverse)"
   ]
  },
  {
   "cell_type": "code",
   "execution_count": null,
   "metadata": {},
   "outputs": [],
   "source": [
    "# In this cell I've initialised a variable 'slice_this_phrase'. \n",
    "# On the next three lines, print the words dog, cat, and racoon seprately \n",
    "#using a slice from the beginning, a slice giving a range in the middle, and a slice from the end.\n",
    "# This means one slice will involve [:n], one will involve [n1:n2], and one will involve [-n:].\n",
    "\n",
    "slice_this_phrase = 'dog cat racoon'\n",
    "\n",
    "print(slice_this_phrase[:3])\n",
    "print(slice_this_phrase[4:7])\n",
    "print(slice_this_phrase[-6:])"
   ]
  },
  {
   "cell_type": "code",
   "execution_count": null,
   "metadata": {},
   "outputs": [],
   "source": [
    "#####################################################################\n",
    "# Session 2: 24th May 2024\n",
    "#####################################################################\n",
    "# recap from last week\n",
    "# str(), int(), float() to convert items\n",
    "\n",
    "# strings idx\n",
    "# [ start : stop : step ]\n",
    "\n",
    "num_1 = 3 # int\n",
    "num_2 = \"5\" # str\n",
    "num_3 = 4.0 # floats\n",
    "\n",
    "# str()\n",
    "# int()\n",
    "# float()\n",
    "\n",
    "type_num_1 = type(num_1)\n",
    "print(num_1)\n",
    "print(type_num_1)\n",
    "\n",
    "#formatted string\n",
    "string_1 = f'I have a number: {num_1}.'\n",
    "\n",
    "#normal concatenated string\n",
    "string_2 = 'I have a number: ' + str(num_1) + '.'\n",
    "\n",
    "print(string_1)\n",
    "\n",
    "substring_1 = string_1[2]\n",
    "print(substring_1)\n",
    "\n",
    "# [ start : stop : step ]\n",
    "substring_2 = string_1[2:-3]\n",
    "print(substring_2)\n",
    "\n",
    "substring_3 = string_1[::2]\n",
    "print(substring_3)\n",
    "\n",
    "reverse_string = string_1[-1::-1]\n",
    "print(reverse_string)\n",
    "\n"
   ]
  },
  {
   "cell_type": "code",
   "execution_count": 9,
   "metadata": {},
   "outputs": [
    {
     "name": "stdout",
     "output_type": "stream",
     "text": [
      "<class 'list'>\n",
      "['red', 'blue', 'green']\n",
      "['red', 'blue', 'green', 'purple']\n",
      "['red', 'blue', 'green', 'purple', ['turquiose', 'teal']]\n",
      "['red', 'blue', 'green', 'purple', ['turquiose', 'teal'], 'turquiose', 'teal']\n",
      "['red', 'blue', 'green', 'purple', ['turquiose', 'teal'], 'turquiose', 'teal', 'g', 'r', 'e', 'y']\n",
      "['red', 'blue', 'green', 'purple', ['turquiose', 'teal'], 'turquiose', 'teal', 'g', 'r', 'e', 'y', 'purple', 'purple']\n",
      "['red', 'blue', 'green', ['turquiose', 'teal'], 'turquiose', 'teal', 'g', 'r', 'e', 'y', 'purple', 'purple']\n"
     ]
    }
   ],
   "source": [
    "##########################################\n",
    "# Week 2 content\n",
    "##########################################\n",
    "\n",
    "# Lists\n",
    "# Good for lookups i.e. validation. Commonly used\n",
    "\n",
    "list_1 = []\n",
    "print(type(list_1))\n",
    "\n",
    "colours = [\"red\",\"blue\",\"green\"]\n",
    "print(colours)\n",
    "# can put a list inside a list if needed\n",
    "# lists can contain anything e.g. tables and other objects\n",
    "\n",
    "colours.append(\"purple\")\n",
    "print(colours)\n",
    "# fn exist outside obj type\n",
    "# a method however are specifically for the object\n",
    "\n",
    "extra_colours = [\"turquiose\", \"teal\"]\n",
    "colours.append(extra_colours) # appends item as ONE INDEXED LOCATION\n",
    "print(colours)\n",
    "\n",
    "colours.extend(extra_colours) # appends items as INDIVIDUAL INDEXED LOCATIONS\n",
    "print(colours)\n",
    "\n",
    "colours.extend(\"grey\") # each characted will have separate INDEX LOCATION!\n",
    "print(colours)\n",
    "# NB: important to know difference between EXTEND and APPEND methods\n",
    "\n",
    "colours.extend([\"purple\", \"purple\"])\n",
    "print(colours)\n",
    "colours.remove(\"purple\") # removes one item at a time\n",
    "# need to run several times to remove individually\n",
    "print(colours)"
   ]
  },
  {
   "cell_type": "code",
   "execution_count": 13,
   "metadata": {},
   "outputs": [
    {
     "name": "stdout",
     "output_type": "stream",
     "text": [
      "[2, 5, 7, 3, 1, 6, 4, 6, 7, 8, 9]\n",
      "[1, 2, 3, 4, 5, 6, 6, 7, 7, 8, 9]\n",
      "[9, 8, 7, 7, 6, 6, 5, 4, 3, 2, 1]\n",
      "[1, 2, 3, 4, 5, 6, 6, 7, 7, 8, 9]\n"
     ]
    }
   ],
   "source": [
    "numbers = [2,5,7,3,1,6,4,6,7,8,9]\n",
    "print(numbers)\n",
    "numbers.sort() # sorts ascending as a default\n",
    "print(numbers)\n",
    "\n",
    "numbers.sort(reverse=True) # an example of a method with parameters\n",
    "print(numbers)\n",
    "\n",
    "sorted_numbers = sorted(numbers) # function, not a method\n",
    "print(sorted_numbers)\n",
    "\n",
    "\n"
   ]
  },
  {
   "cell_type": "code",
   "execution_count": 15,
   "metadata": {},
   "outputs": [
    {
     "name": "stdout",
     "output_type": "stream",
     "text": [
      "{'Name': 'William', 'Age': 52, 'Hobby': 'Rowing'}\n",
      "Rowing\n"
     ]
    }
   ],
   "source": [
    "# Dictionary\n",
    "# useful for storing related tables, renaming variables based on a key\n",
    "# they are very quick to process, as vars are stored close together\n",
    "# good for organising variables\n",
    "# Store data in key/value pairs\n",
    "# Dictionary = {key:value, key:value}\n",
    "# keys are immutable ie can't change\n",
    "will = {\"Name\":\"William\",\n",
    "        \"Age\":52,\n",
    "        \"Hobby\":\"Rowing\"}\n",
    "print(will)\n",
    "\n",
    "print(will[\"Hobby\"])"
   ]
  },
  {
   "cell_type": "code",
   "execution_count": null,
   "metadata": {},
   "outputs": [],
   "source": [
    "# PEP 8 is a coding guide\n",
    "# variables are lower case with _ between\n"
   ]
  }
 ],
 "metadata": {
  "kernelspec": {
   "display_name": "Python 3",
   "language": "python",
   "name": "python3"
  },
  "language_info": {
   "codemirror_mode": {
    "name": "ipython",
    "version": 3
   },
   "file_extension": ".py",
   "mimetype": "text/x-python",
   "name": "python",
   "nbconvert_exporter": "python",
   "pygments_lexer": "ipython3",
   "version": "3.10.13"
  }
 },
 "nbformat": 4,
 "nbformat_minor": 2
}
