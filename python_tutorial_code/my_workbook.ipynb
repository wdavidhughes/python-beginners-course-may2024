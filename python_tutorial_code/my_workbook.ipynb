{
 "cells": [
  {
   "cell_type": "code",
   "execution_count": 23,
   "metadata": {},
   "outputs": [
    {
     "name": "stdout",
     "output_type": "stream",
     "text": [
      "Hello world\n",
      "15\n",
      "2.0\n",
      "<class 'float'>\n",
      "<class 'int'>\n"
     ]
    }
   ],
   "source": [
    "# 17th May 2024\n",
    "# jupyter notebook good for teaching and doc but not to build app\n",
    "x = 5\n",
    "y = 10\n",
    "z = x + y\n",
    "# python will guess the data type\n",
    "# functions are lower case\n",
    "# python uses whitespace as part of the code. \n",
    "# whitespace and tabs are important\n",
    "print(\"Hello world\")\n",
    "print(z)\n",
    "\n",
    "j = y / x\n",
    "print(j) # will show decimal i.e. a float, a 64 bit \n",
    "\n",
    "print(type(j))\n",
    "print(type(z))\n",
    "# type is a class, not a function"
   ]
  },
  {
   "cell_type": "code",
   "execution_count": 24,
   "metadata": {},
   "outputs": [
    {
     "name": "stdout",
     "output_type": "stream",
     "text": [
      "240\n",
      "12.568\n"
     ]
    }
   ],
   "source": [
    "# Exercise\n",
    "a = 12\n",
    "b = 20\n",
    "c = a * b\n",
    "print(c)\n",
    "\n",
    "# calc area of a circle\n",
    "radius = 2\n",
    "pi = 3.142\n",
    "area_of_circle = pi * (radius ** 2)\n",
    "print(area_of_circle)\n"
   ]
  },
  {
   "cell_type": "code",
   "execution_count": 25,
   "metadata": {},
   "outputs": [
    {
     "name": "stdout",
     "output_type": "stream",
     "text": [
      "My name is: David, and i like rowing\n"
     ]
    }
   ],
   "source": [
    "# concatenate strings\n",
    "name = \"David\"\n",
    "hobby = \"rowing\"\n",
    "\n",
    "#create f string\n",
    "outcome = f\"My name is: {name}, and i like {hobby}\"\n",
    "print(outcome)"
   ]
  },
  {
   "cell_type": "code",
   "execution_count": 26,
   "metadata": {},
   "outputs": [
    {
     "name": "stdout",
     "output_type": "stream",
     "text": [
      "I'm David and my job title is Senior specialist\n"
     ]
    }
   ],
   "source": [
    "# exercise\n",
    "name = \"David\"\n",
    "job = \"Senior specialist\"\n",
    "name_job = f\"I'm {name} and my job title is {job}\"\n",
    "# can put other expressions into {}\n",
    "print(name_job)"
   ]
  },
  {
   "cell_type": "code",
   "execution_count": 27,
   "metadata": {},
   "outputs": [
    {
     "name": "stdout",
     "output_type": "stream",
     "text": [
      "9\n",
      "7\n",
      "456\n",
      "13579\n"
     ]
    }
   ],
   "source": [
    "# slicing strings\n",
    "# indexing starts at ZERO\n",
    "# [] for accessing slice e.g. column, row, location in a string\n",
    "\n",
    "num_string = \"123456789\"\n",
    "sub_string = num_string[8]\n",
    "print(sub_string)\n",
    "\n",
    "sub_string_right = num_string[-3] # a minus means count from the right\n",
    "print(sub_string_right)\n",
    "\n",
    "sub_range = num_string[3:-3] # start is inclusive, stop is exclusive\n",
    "print(sub_range)\n",
    "\n",
    "# step\n",
    "step_range = num_string[::2]\n",
    "print(step_range)\n",
    "\n",
    "reverse = num_string[-1::-1]"
   ]
  },
  {
   "cell_type": "code",
   "execution_count": 28,
   "metadata": {},
   "outputs": [
    {
     "name": "stdout",
     "output_type": "stream",
     "text": [
      "dog\n",
      "cat\n",
      "racoon\n"
     ]
    }
   ],
   "source": [
    "# exercise - split out the 3 words\n",
    "slice_this_phrase = \"dog cat racoon\"\n",
    "print(slice_this_phrase[0:3])\n",
    "print(slice_this_phrase[4:7])\n",
    "print(slice_this_phrase[-6:])"
   ]
  },
  {
   "cell_type": "code",
   "execution_count": 29,
   "metadata": {},
   "outputs": [
    {
     "name": "stdout",
     "output_type": "stream",
     "text": [
      "My name is: Will, and I like Running.\n",
      "My name is: Will, and I like Running.\n"
     ]
    }
   ],
   "source": [
    "name = \"Will\"\n",
    "hobby = \"Running\"\n",
    "\n",
    "outcome = \"My name is: \" + name + \", and I like \" + hobby + \".\"\n",
    "\n",
    "print(outcome)\n",
    "\n",
    "outcome_2 = f\"My name is: {name}, and I like {hobby}.\"\n",
    "\n",
    "print(outcome_2)"
   ]
  },
  {
   "cell_type": "code",
   "execution_count": 30,
   "metadata": {},
   "outputs": [
    {
     "name": "stdout",
     "output_type": "stream",
     "text": [
      "My name is Will, and I am a Data Manager.\n"
     ]
    }
   ],
   "source": [
    "# In this cell, initialise two appropriately named variables, one for your name and one for your job title.\n",
    "# Next, combine them in an f string, assigned to a different, appropriately named variable.\n",
    "# Finally, print the f string.\n",
    "\n",
    "name = \"Will\"\n",
    "job = \"Data Manager\"\n",
    "\n",
    "name_job = f\"My name is {name}, and I am a {job}.\"\n",
    "\n",
    "print(name_job)"
   ]
  },
  {
   "cell_type": "code",
   "execution_count": 31,
   "metadata": {},
   "outputs": [
    {
     "name": "stdout",
     "output_type": "stream",
     "text": [
      "4\n",
      "7\n",
      "4567\n",
      "13579\n",
      "987654321\n"
     ]
    }
   ],
   "source": [
    "# indexing starts at 0\n",
    "\n",
    "num_string = \"123456789\"\n",
    "\n",
    "sub_string = num_string[3]\n",
    "\n",
    "print(sub_string)\n",
    "\n",
    "# minus is from rhs\n",
    "sub_string_rhs = num_string[-3]\n",
    "\n",
    "print(sub_string_rhs)\n",
    "\n",
    "# start is INCLUSIVE, stop is EXCLUSIVE\n",
    "sub_range = num_string[3:7]\n",
    "print(sub_range)\n",
    "\n",
    "# step \n",
    "step_range = num_string[::2]\n",
    "print(step_range)\n",
    "\n",
    "reverse = num_string[-1::-1]\n",
    "print(reverse)"
   ]
  },
  {
   "cell_type": "code",
   "execution_count": 32,
   "metadata": {},
   "outputs": [
    {
     "name": "stdout",
     "output_type": "stream",
     "text": [
      "dog\n",
      "cat\n",
      "racoon\n"
     ]
    }
   ],
   "source": [
    "# In this cell I've initialised a variable 'slice_this_phrase'. \n",
    "# On the next three lines, print the words dog, cat, and racoon seprately \n",
    "#using a slice from the beginning, a slice giving a range in the middle, and a slice from the end.\n",
    "# This means one slice will involve [:n], one will involve [n1:n2], and one will involve [-n:].\n",
    "\n",
    "slice_this_phrase = 'dog cat racoon'\n",
    "\n",
    "print(slice_this_phrase[:3])\n",
    "print(slice_this_phrase[4:7])\n",
    "print(slice_this_phrase[-6:])"
   ]
  },
  {
   "cell_type": "code",
   "execution_count": 33,
   "metadata": {},
   "outputs": [
    {
     "name": "stdout",
     "output_type": "stream",
     "text": [
      "3\n",
      "<class 'int'>\n",
      "I have a number: 3.\n",
      "h\n",
      "have a number:\n",
      "Ihv  ubr .\n",
      ".3 :rebmun a evah I\n"
     ]
    }
   ],
   "source": [
    "#####################################################################\n",
    "# Session 2: 24th May 2024\n",
    "#####################################################################\n",
    "# recap from last week\n",
    "# str(), int(), float() to convert items\n",
    "\n",
    "# strings idx\n",
    "# [ start : stop : step ]\n",
    "\n",
    "num_1 = 3 # int\n",
    "num_2 = \"5\" # str\n",
    "num_3 = 4.0 # floats\n",
    "\n",
    "# str()\n",
    "# int()\n",
    "# float()\n",
    "\n",
    "type_num_1 = type(num_1)\n",
    "print(num_1)\n",
    "print(type_num_1)\n",
    "\n",
    "#formatted string\n",
    "string_1 = f'I have a number: {num_1}.'\n",
    "\n",
    "#normal concatenated string\n",
    "string_2 = 'I have a number: ' + str(num_1) + '.'\n",
    "\n",
    "print(string_1)\n",
    "\n",
    "substring_1 = string_1[2]\n",
    "print(substring_1)\n",
    "\n",
    "# [ start : stop : step ]\n",
    "substring_2 = string_1[2:-3]\n",
    "print(substring_2)\n",
    "\n",
    "substring_3 = string_1[::2]\n",
    "print(substring_3)\n",
    "\n",
    "reverse_string = string_1[-1::-1]\n",
    "print(reverse_string)\n",
    "\n"
   ]
  },
  {
   "cell_type": "code",
   "execution_count": 34,
   "metadata": {},
   "outputs": [
    {
     "name": "stdout",
     "output_type": "stream",
     "text": [
      "<class 'list'>\n",
      "['red', 'blue', 'green']\n",
      "['red', 'blue', 'green', 'purple']\n",
      "['red', 'blue', 'green', 'purple', ['turquiose', 'teal']]\n",
      "['red', 'blue', 'green', 'purple', ['turquiose', 'teal'], 'turquiose', 'teal']\n",
      "['red', 'blue', 'green', 'purple', ['turquiose', 'teal'], 'turquiose', 'teal', 'g', 'r', 'e', 'y']\n",
      "['red', 'blue', 'green', 'purple', ['turquiose', 'teal'], 'turquiose', 'teal', 'g', 'r', 'e', 'y', 'purple', 'purple']\n",
      "['red', 'blue', 'green', ['turquiose', 'teal'], 'turquiose', 'teal', 'g', 'r', 'e', 'y', 'purple', 'purple']\n"
     ]
    }
   ],
   "source": [
    "##########################################\n",
    "# Week 2 content\n",
    "##########################################\n",
    "\n",
    "# Lists\n",
    "# Good for lookups i.e. validation. Commonly used\n",
    "\n",
    "list_1 = []\n",
    "print(type(list_1))\n",
    "\n",
    "colours = [\"red\",\"blue\",\"green\"]\n",
    "print(colours)\n",
    "# can put a list inside a list if needed\n",
    "# lists can contain anything e.g. tables and other objects\n",
    "\n",
    "colours.append(\"purple\")\n",
    "print(colours)\n",
    "# fn exist outside obj type\n",
    "# a method however are specifically for the object\n",
    "\n",
    "extra_colours = [\"turquiose\", \"teal\"]\n",
    "colours.append(extra_colours) # appends item as ONE INDEXED LOCATION\n",
    "print(colours)\n",
    "\n",
    "colours.extend(extra_colours) # appends items as INDIVIDUAL INDEXED LOCATIONS\n",
    "print(colours)\n",
    "\n",
    "colours.extend(\"grey\") # each characted will have separate INDEX LOCATION!\n",
    "print(colours)\n",
    "# NB: important to know difference between EXTEND and APPEND methods\n",
    "\n",
    "colours.extend([\"purple\", \"purple\"])\n",
    "print(colours)\n",
    "colours.remove(\"purple\") # removes one item at a time\n",
    "# need to run several times to remove individually\n",
    "print(colours)"
   ]
  },
  {
   "cell_type": "code",
   "execution_count": 35,
   "metadata": {},
   "outputs": [
    {
     "name": "stdout",
     "output_type": "stream",
     "text": [
      "[2, 5, 7, 3, 1, 6, 4, 6, 7, 8, 9]\n",
      "[1, 2, 3, 4, 5, 6, 6, 7, 7, 8, 9]\n",
      "[9, 8, 7, 7, 6, 6, 5, 4, 3, 2, 1]\n",
      "[1, 2, 3, 4, 5, 6, 6, 7, 7, 8, 9]\n"
     ]
    }
   ],
   "source": [
    "numbers = [2,5,7,3,1,6,4,6,7,8,9]\n",
    "print(numbers)\n",
    "numbers.sort() # sorts ascending as a default\n",
    "print(numbers)\n",
    "\n",
    "numbers.sort(reverse=True) # an example of a method with parameters\n",
    "print(numbers)\n",
    "\n",
    "sorted_numbers = sorted(numbers) # function, not a method\n",
    "print(sorted_numbers)\n",
    "\n",
    "\n"
   ]
  },
  {
   "cell_type": "code",
   "execution_count": 36,
   "metadata": {},
   "outputs": [
    {
     "name": "stdout",
     "output_type": "stream",
     "text": [
      "{'Name': 'William', 'Age': 52, 'Hobby': 'Rowing'}\n",
      "Rowing\n"
     ]
    }
   ],
   "source": [
    "# Dictionary\n",
    "# useful for storing related tables, renaming variables based on a key\n",
    "# they are very quick to process, as vars are stored close together\n",
    "# good for organising variables\n",
    "# Store data in key/value pairs\n",
    "# Dictionary = {key:value, key:value}\n",
    "# keys are immutable ie can't change\n",
    "will = {\"Name\":\"William\",\n",
    "        \"Age\":52,\n",
    "        \"Hobby\":\"Rowing\"}\n",
    "print(will)\n",
    "\n",
    "print(will[\"Hobby\"])"
   ]
  },
  {
   "cell_type": "code",
   "execution_count": 37,
   "metadata": {},
   "outputs": [],
   "source": [
    "# PEP 8 is a coding guide\n",
    "# variables are lower case with _ between\n"
   ]
  },
  {
   "cell_type": "code",
   "execution_count": 38,
   "metadata": {},
   "outputs": [
    {
     "data": {
      "text/html": [
       "<div>\n",
       "<style scoped>\n",
       "    .dataframe tbody tr th:only-of-type {\n",
       "        vertical-align: middle;\n",
       "    }\n",
       "\n",
       "    .dataframe tbody tr th {\n",
       "        vertical-align: top;\n",
       "    }\n",
       "\n",
       "    .dataframe thead th {\n",
       "        text-align: right;\n",
       "    }\n",
       "</style>\n",
       "<table border=\"1\" class=\"dataframe\">\n",
       "  <thead>\n",
       "    <tr style=\"text-align: right;\">\n",
       "      <th></th>\n",
       "      <th>Name</th>\n",
       "      <th>Period</th>\n",
       "      <th>House price index All property types</th>\n",
       "      <th>Average price All property types</th>\n",
       "      <th>Percentage change (monthly) All property types</th>\n",
       "      <th>Percentage change (yearly) All property types</th>\n",
       "    </tr>\n",
       "  </thead>\n",
       "  <tbody>\n",
       "    <tr>\n",
       "      <th>0</th>\n",
       "      <td>United Kingdom</td>\n",
       "      <td>1980-01</td>\n",
       "      <td>10.11</td>\n",
       "      <td>19273</td>\n",
       "      <td>3.94</td>\n",
       "      <td>28.59</td>\n",
       "    </tr>\n",
       "    <tr>\n",
       "      <th>1</th>\n",
       "      <td>United Kingdom</td>\n",
       "      <td>1980-02</td>\n",
       "      <td>10.11</td>\n",
       "      <td>19273</td>\n",
       "      <td>3.94</td>\n",
       "      <td>28.59</td>\n",
       "    </tr>\n",
       "    <tr>\n",
       "      <th>2</th>\n",
       "      <td>United Kingdom</td>\n",
       "      <td>1980-03</td>\n",
       "      <td>10.11</td>\n",
       "      <td>19273</td>\n",
       "      <td>3.94</td>\n",
       "      <td>28.59</td>\n",
       "    </tr>\n",
       "    <tr>\n",
       "      <th>3</th>\n",
       "      <td>United Kingdom</td>\n",
       "      <td>1980-04</td>\n",
       "      <td>10.51</td>\n",
       "      <td>20044</td>\n",
       "      <td>4.00</td>\n",
       "      <td>24.15</td>\n",
       "    </tr>\n",
       "    <tr>\n",
       "      <th>4</th>\n",
       "      <td>United Kingdom</td>\n",
       "      <td>1980-05</td>\n",
       "      <td>10.51</td>\n",
       "      <td>20044</td>\n",
       "      <td>4.00</td>\n",
       "      <td>24.15</td>\n",
       "    </tr>\n",
       "    <tr>\n",
       "      <th>...</th>\n",
       "      <td>...</td>\n",
       "      <td>...</td>\n",
       "      <td>...</td>\n",
       "      <td>...</td>\n",
       "      <td>...</td>\n",
       "      <td>...</td>\n",
       "    </tr>\n",
       "    <tr>\n",
       "      <th>518</th>\n",
       "      <td>United Kingdom</td>\n",
       "      <td>2023-03</td>\n",
       "      <td>148.20</td>\n",
       "      <td>282548</td>\n",
       "      <td>-1.00</td>\n",
       "      <td>3.20</td>\n",
       "    </tr>\n",
       "    <tr>\n",
       "      <th>519</th>\n",
       "      <td>United Kingdom</td>\n",
       "      <td>2023-04</td>\n",
       "      <td>148.90</td>\n",
       "      <td>283871</td>\n",
       "      <td>0.50</td>\n",
       "      <td>2.50</td>\n",
       "    </tr>\n",
       "    <tr>\n",
       "      <th>520</th>\n",
       "      <td>United Kingdom</td>\n",
       "      <td>2023-05</td>\n",
       "      <td>149.50</td>\n",
       "      <td>285053</td>\n",
       "      <td>0.40</td>\n",
       "      <td>1.60</td>\n",
       "    </tr>\n",
       "    <tr>\n",
       "      <th>521</th>\n",
       "      <td>United Kingdom</td>\n",
       "      <td>2023-06</td>\n",
       "      <td>151.20</td>\n",
       "      <td>288281</td>\n",
       "      <td>1.10</td>\n",
       "      <td>1.90</td>\n",
       "    </tr>\n",
       "    <tr>\n",
       "      <th>522</th>\n",
       "      <td>United Kingdom</td>\n",
       "      <td>2023-07</td>\n",
       "      <td>152.00</td>\n",
       "      <td>289824</td>\n",
       "      <td>0.50</td>\n",
       "      <td>0.60</td>\n",
       "    </tr>\n",
       "  </tbody>\n",
       "</table>\n",
       "<p>523 rows × 6 columns</p>\n",
       "</div>"
      ],
      "text/plain": [
       "               Name   Period  House price index All property types  \\\n",
       "0    United Kingdom  1980-01                                 10.11   \n",
       "1    United Kingdom  1980-02                                 10.11   \n",
       "2    United Kingdom  1980-03                                 10.11   \n",
       "3    United Kingdom  1980-04                                 10.51   \n",
       "4    United Kingdom  1980-05                                 10.51   \n",
       "..              ...      ...                                   ...   \n",
       "518  United Kingdom  2023-03                                148.20   \n",
       "519  United Kingdom  2023-04                                148.90   \n",
       "520  United Kingdom  2023-05                                149.50   \n",
       "521  United Kingdom  2023-06                                151.20   \n",
       "522  United Kingdom  2023-07                                152.00   \n",
       "\n",
       "     Average price All property types  \\\n",
       "0                               19273   \n",
       "1                               19273   \n",
       "2                               19273   \n",
       "3                               20044   \n",
       "4                               20044   \n",
       "..                                ...   \n",
       "518                            282548   \n",
       "519                            283871   \n",
       "520                            285053   \n",
       "521                            288281   \n",
       "522                            289824   \n",
       "\n",
       "     Percentage change (monthly) All property types  \\\n",
       "0                                              3.94   \n",
       "1                                              3.94   \n",
       "2                                              3.94   \n",
       "3                                              4.00   \n",
       "4                                              4.00   \n",
       "..                                              ...   \n",
       "518                                           -1.00   \n",
       "519                                            0.50   \n",
       "520                                            0.40   \n",
       "521                                            1.10   \n",
       "522                                            0.50   \n",
       "\n",
       "     Percentage change (yearly) All property types  \n",
       "0                                            28.59  \n",
       "1                                            28.59  \n",
       "2                                            28.59  \n",
       "3                                            24.15  \n",
       "4                                            24.15  \n",
       "..                                             ...  \n",
       "518                                           3.20  \n",
       "519                                           2.50  \n",
       "520                                           1.60  \n",
       "521                                           1.90  \n",
       "522                                           0.60  \n",
       "\n",
       "[523 rows x 6 columns]"
      ]
     },
     "execution_count": 38,
     "metadata": {},
     "output_type": "execute_result"
    }
   ],
   "source": [
    "##########################################\n",
    "# Week 3 - pandas for tabular data\n",
    "##########################################\n",
    "# do not use github to process sensitive data **********\n",
    "\n",
    "import pandas as pd\n",
    "# import os # needed if reading files from laptop. There is a separate package for sharepoint data.\n",
    "\n",
    "filename = r\"https://raw.githubusercontent.com/data-to-insight/ERN-sessions/main/data/1980%202023%20average%20house%20prices.csv\"\n",
    "\n",
    "# DataFrame - shorthand as df (ie tabular data, like R)\n",
    "\n",
    "house_prices = pd.read_csv(filename) # many attributes/parameters are available\n",
    "house_prices # will output the object, because this is jupyter, we don't need specifically print(house_prices)\n",
    "\n",
    "# import openpyxl # for reading excel\n",
    "# excel_file = pd.read_excel(filename, sheet_name = []) # will only read 1st sheet unless stated\n",
    "# returns a dictionary {} where keys are sheet names and values the df"
   ]
  },
  {
   "cell_type": "code",
   "execution_count": 39,
   "metadata": {},
   "outputs": [
    {
     "name": "stdout",
     "output_type": "stream",
     "text": [
      "<class 'pandas.core.frame.DataFrame'>\n",
      "RangeIndex: 523 entries, 0 to 522\n",
      "Data columns (total 6 columns):\n",
      " #   Column                                          Non-Null Count  Dtype  \n",
      "---  ------                                          --------------  -----  \n",
      " 0   Name                                            523 non-null    object \n",
      " 1   Period                                          523 non-null    object \n",
      " 2   House price index All property types            523 non-null    float64\n",
      " 3   Average price All property types                523 non-null    int64  \n",
      " 4   Percentage change (monthly) All property types  523 non-null    float64\n",
      " 5   Percentage change (yearly) All property types   523 non-null    float64\n",
      "dtypes: float64(3), int64(1), object(2)\n",
      "memory usage: 24.6+ KB\n"
     ]
    },
    {
     "data": {
      "text/html": [
       "<div>\n",
       "<style scoped>\n",
       "    .dataframe tbody tr th:only-of-type {\n",
       "        vertical-align: middle;\n",
       "    }\n",
       "\n",
       "    .dataframe tbody tr th {\n",
       "        vertical-align: top;\n",
       "    }\n",
       "\n",
       "    .dataframe thead th {\n",
       "        text-align: right;\n",
       "    }\n",
       "</style>\n",
       "<table border=\"1\" class=\"dataframe\">\n",
       "  <thead>\n",
       "    <tr style=\"text-align: right;\">\n",
       "      <th></th>\n",
       "      <th>Name</th>\n",
       "      <th>Period</th>\n",
       "      <th>House price index All property types</th>\n",
       "      <th>Average price All property types</th>\n",
       "      <th>Percentage change (monthly) All property types</th>\n",
       "      <th>Percentage change (yearly) All property types</th>\n",
       "    </tr>\n",
       "  </thead>\n",
       "  <tbody>\n",
       "    <tr>\n",
       "      <th>518</th>\n",
       "      <td>United Kingdom</td>\n",
       "      <td>2023-03</td>\n",
       "      <td>148.2</td>\n",
       "      <td>282548</td>\n",
       "      <td>-1.0</td>\n",
       "      <td>3.2</td>\n",
       "    </tr>\n",
       "    <tr>\n",
       "      <th>519</th>\n",
       "      <td>United Kingdom</td>\n",
       "      <td>2023-04</td>\n",
       "      <td>148.9</td>\n",
       "      <td>283871</td>\n",
       "      <td>0.5</td>\n",
       "      <td>2.5</td>\n",
       "    </tr>\n",
       "    <tr>\n",
       "      <th>520</th>\n",
       "      <td>United Kingdom</td>\n",
       "      <td>2023-05</td>\n",
       "      <td>149.5</td>\n",
       "      <td>285053</td>\n",
       "      <td>0.4</td>\n",
       "      <td>1.6</td>\n",
       "    </tr>\n",
       "    <tr>\n",
       "      <th>521</th>\n",
       "      <td>United Kingdom</td>\n",
       "      <td>2023-06</td>\n",
       "      <td>151.2</td>\n",
       "      <td>288281</td>\n",
       "      <td>1.1</td>\n",
       "      <td>1.9</td>\n",
       "    </tr>\n",
       "    <tr>\n",
       "      <th>522</th>\n",
       "      <td>United Kingdom</td>\n",
       "      <td>2023-07</td>\n",
       "      <td>152.0</td>\n",
       "      <td>289824</td>\n",
       "      <td>0.5</td>\n",
       "      <td>0.6</td>\n",
       "    </tr>\n",
       "  </tbody>\n",
       "</table>\n",
       "</div>"
      ],
      "text/plain": [
       "               Name   Period  House price index All property types  \\\n",
       "518  United Kingdom  2023-03                                 148.2   \n",
       "519  United Kingdom  2023-04                                 148.9   \n",
       "520  United Kingdom  2023-05                                 149.5   \n",
       "521  United Kingdom  2023-06                                 151.2   \n",
       "522  United Kingdom  2023-07                                 152.0   \n",
       "\n",
       "     Average price All property types  \\\n",
       "518                            282548   \n",
       "519                            283871   \n",
       "520                            285053   \n",
       "521                            288281   \n",
       "522                            289824   \n",
       "\n",
       "     Percentage change (monthly) All property types  \\\n",
       "518                                            -1.0   \n",
       "519                                             0.5   \n",
       "520                                             0.4   \n",
       "521                                             1.1   \n",
       "522                                             0.5   \n",
       "\n",
       "     Percentage change (yearly) All property types  \n",
       "518                                            3.2  \n",
       "519                                            2.5  \n",
       "520                                            1.6  \n",
       "521                                            1.9  \n",
       "522                                            0.6  "
      ]
     },
     "execution_count": 39,
     "metadata": {},
     "output_type": "execute_result"
    }
   ],
   "source": [
    "house_prices.info() # a bit like summary in R\n",
    "# columns and rows are indexed\n",
    "# check col types within the output. Some may need cleaning\n",
    "house_prices.head() # can put integer in the brackets\n",
    "house_prices.tail() # can put integer in the brackets"
   ]
  },
  {
   "cell_type": "code",
   "execution_count": 40,
   "metadata": {},
   "outputs": [
    {
     "name": "stdout",
     "output_type": "stream",
     "text": [
      "<class 'pandas.core.frame.DataFrame'>\n",
      "RangeIndex: 523 entries, 0 to 522\n",
      "Data columns (total 6 columns):\n",
      " #   Column                                          Non-Null Count  Dtype         \n",
      "---  ------                                          --------------  -----         \n",
      " 0   Name                                            523 non-null    object        \n",
      " 1   Period                                          523 non-null    datetime64[ns]\n",
      " 2   House price index All property types            523 non-null    float64       \n",
      " 3   Average price All property types                523 non-null    int64         \n",
      " 4   Percentage change (monthly) All property types  523 non-null    float64       \n",
      " 5   Percentage change (yearly) All property types   523 non-null    float64       \n",
      "dtypes: datetime64[ns](1), float64(3), int64(1), object(1)\n",
      "memory usage: 24.6+ KB\n"
     ]
    }
   ],
   "source": [
    "# to select col\n",
    "house_prices['Period']\n",
    "# to change column type\n",
    "house_prices['Period'] = pd.to_datetime(house_prices['Period'], format = \"%Y-%m\")\n",
    "# useful datetime conversion cheatsheet: https://strftime.org/\n",
    "house_prices.info()"
   ]
  },
  {
   "cell_type": "code",
   "execution_count": 41,
   "metadata": {},
   "outputs": [],
   "source": [
    "#new col to calculate age, using 2 dates\n",
    "# has row context like R, so adds new column to each row\n",
    "house_prices['Age of data'] = pd.to_datetime('today') - house_prices['Period'] # output in days\n",
    "house_prices['Age of data'] = house_prices['Age of data'] / pd.Timedelta(365.25,'d')\n",
    "house_prices['Age of data'] = house_prices['Age of data'].astype('int') # int will round age down. Use 'round' to control rounding\n",
    "\n",
    "#alternativly, can use numpy.timedelta64(1, 'Y') as it's more detailed calculation\n"
   ]
  },
  {
   "cell_type": "code",
   "execution_count": 42,
   "metadata": {},
   "outputs": [],
   "source": [
    "# alternative test dataset\n",
    "fn = r\"https://raw.githubusercontent.com/data-to-insight/ERN-sessions/main/data/ChildIdentifiers.csv\"\n",
    "child_data = pd.read_csv(fn)"
   ]
  },
  {
   "cell_type": "code",
   "execution_count": 43,
   "metadata": {},
   "outputs": [
    {
     "name": "stdout",
     "output_type": "stream",
     "text": [
      "<class 'pandas.core.frame.DataFrame'>\n",
      "RangeIndex: 332 entries, 0 to 331\n",
      "Data columns (total 9 columns):\n",
      " #   Column                   Non-Null Count  Dtype         \n",
      "---  ------                   --------------  -----         \n",
      " 0   Unnamed: 0               332 non-null    int64         \n",
      " 1   LAchildID                332 non-null    object        \n",
      " 2   UPN                      332 non-null    object        \n",
      " 3   FormerUPN                0 non-null      float64       \n",
      " 4   UPNunknown               0 non-null      float64       \n",
      " 5   PersonBirthDate          332 non-null    object        \n",
      " 6   ExpectedPersonBirthDate  7 non-null      datetime64[ns]\n",
      " 7   GenderCurrent            332 non-null    int64         \n",
      " 8   PersonDeathDate          21 non-null     object        \n",
      "dtypes: datetime64[ns](1), float64(2), int64(2), object(4)\n",
      "memory usage: 23.5+ KB\n"
     ]
    }
   ],
   "source": [
    "# convert another data\n",
    "child_data['ExpectedPersonBirthDate'] = pd.to_datetime(child_data['ExpectedPersonBirthDate'], format=\"%Y-%m-%d\", errors=\"coerce\")\n",
    "# error coerces to NaN\n",
    "child_data.info()"
   ]
  },
  {
   "cell_type": "code",
   "execution_count": 44,
   "metadata": {},
   "outputs": [
    {
     "ename": "NameError",
     "evalue": "name 'left_df' is not defined",
     "output_type": "error",
     "traceback": [
      "\u001b[0;31m---------------------------------------------------------------------------\u001b[0m",
      "\u001b[0;31mNameError\u001b[0m                                 Traceback (most recent call last)",
      "Cell \u001b[0;32mIn[44], line 2\u001b[0m\n\u001b[1;32m      1\u001b[0m \u001b[38;5;66;03m# to merge df\u001b[39;00m\n\u001b[0;32m----> 2\u001b[0m new_df \u001b[38;5;241m=\u001b[39m pd\u001b[38;5;241m.\u001b[39mmerge(\u001b[43mleft_df\u001b[49m, right_df, how \u001b[38;5;241m=\u001b[39m \u001b[38;5;124m'\u001b[39m\u001b[38;5;124mleft\u001b[39m\u001b[38;5;124m'\u001b[39m, left_on \u001b[38;5;241m=\u001b[39m \u001b[38;5;124m'\u001b[39m\u001b[38;5;124mcolNameToJoin\u001b[39m\u001b[38;5;124m'\u001b[39m, right_on \u001b[38;5;241m=\u001b[39m \u001b[38;5;124m'\u001b[39m\u001b[38;5;124mcolToJoinRight\u001b[39m\u001b[38;5;124m'\u001b[39m)\n",
      "\u001b[0;31mNameError\u001b[0m: name 'left_df' is not defined"
     ]
    }
   ],
   "source": [
    "# to merge df\n",
    "new_df = pd.merge(left_df, right_df, how = 'left', left_on = 'colNameToJoin', right_on = 'colToJoinRight')\n",
    "\n"
   ]
  },
  {
   "cell_type": "code",
   "execution_count": null,
   "metadata": {},
   "outputs": [],
   "source": [
    "# example of how to create hard-coded dataframes\n",
    "\n",
    "child_info = pd.DataFrame({'ChildId':['id1', 'id2', 'id3', 'id4', 'id5'],\n",
    "                   'Age first contact':[6,12,11,1,19],\n",
    "                   'Gender':['M','m', 'F', '', 'F' ],\n",
    "                   'Birthday':['01/01/2002', '02/02/2003', pd.NA, '03/03/2023', '06/01/2012'],\n",
    "                   'CP Plan?':['Y', 'n', 'N', 'No', 'yES'],})\n",
    "\n",
    "nhs_numbers = pd.DataFrame([\n",
    "                            {'ChildId':'id1',\n",
    "                            'NHS Number': '303',},\n",
    "                            {'ChildId':'id4',\n",
    "                            'NHS Number': 'avsgvb',},\n",
    "                            {'ChildId':'id5',\n",
    "                            'NHS Number': 'varwvw',},\n",
    "                            {'ChildId':'id2',\n",
    "                            'NHS Number': '3u5029',},\n",
    "                            {'ChildId':'id3',\n",
    "                            'NHS Number': 'gqw3',}, \n",
    "                            ])"
   ]
  },
  {
   "cell_type": "code",
   "execution_count": 50,
   "metadata": {},
   "outputs": [],
   "source": [
    "##########################################\n",
    "# Week 4 - \n",
    "##########################################\n",
    "\n",
    "import pandas as pd\n",
    "# import os # would need this if importing file on own laptop\n",
    "\n",
    "filepath_ci  = r\"https://raw.githubusercontent.com/data-to-insight/ERN-sessions/main/data/ChildIdentifiers.csv\"\n",
    "filepath_cc = r\"https://raw.githubusercontent.com/data-to-insight/ERN-sessions/main/data/ChildCharacteristics.csv\"\n",
    "\n",
    "child_identifiers = pd.read_csv(filepath_ci)\n",
    "child_characteristics = pd.read_csv(filepath_cc)\n",
    "\n",
    "# for reading local files with locally installed Python\n",
    "# import os\n",
    "# os_filepath = r\"c://data/child_charatceristics.csv\"\n",
    "\n",
    "\n"
   ]
  },
  {
   "cell_type": "code",
   "execution_count": 52,
   "metadata": {},
   "outputs": [
    {
     "name": "stdout",
     "output_type": "stream",
     "text": [
      "<class 'pandas.core.frame.DataFrame'>\n",
      "RangeIndex: 332 entries, 0 to 331\n",
      "Data columns (total 9 columns):\n",
      " #   Column                   Non-Null Count  Dtype  \n",
      "---  ------                   --------------  -----  \n",
      " 0   Unnamed: 0               332 non-null    int64  \n",
      " 1   LAchildID                332 non-null    object \n",
      " 2   UPN                      332 non-null    object \n",
      " 3   FormerUPN                0 non-null      float64\n",
      " 4   UPNunknown               0 non-null      float64\n",
      " 5   PersonBirthDate          332 non-null    object \n",
      " 6   ExpectedPersonBirthDate  7 non-null      object \n",
      " 7   GenderCurrent            332 non-null    int64  \n",
      " 8   PersonDeathDate          21 non-null     object \n",
      "dtypes: float64(2), int64(2), object(5)\n",
      "memory usage: 23.5+ KB\n"
     ]
    }
   ],
   "source": [
    "child_identifiers.info()\n",
    "child_info = pd.DataFrame({'ChildId':['id1', 'id2', 'id3', 'id4', 'id5'],\n",
    "                   'Age first contact':[6,12,11,1,19],\n",
    "                   'Gender':['M','m', 'F', '', 'F' ],\n",
    "                   'Birthday':['01/01/2002', '02/02/2003', pd.NA, '03/03/2023', '06/01/2012'],\n",
    "                   'CP Plan?':['Y', 'n', 'N', 'No', 'yES'],})\n",
    "\n",
    "nhs_numbers = pd.DataFrame([\n",
    "                            {'ChildId':'id1',\n",
    "                            'NHS Number': '303',},\n",
    "                            {'ChildId':'id2',\n",
    "                            'NHS Number': '3u5029',},\n",
    "                            {'ChildId':'id3',\n",
    "                            'NHS Number': 'gqw3',},\n",
    "                            {'ChildId':'id4',\n",
    "                            'NHS Number': 'avsgvb',},\n",
    "                            {'ChildId':'id5',\n",
    "                            'NHS Number': 'varwvw',},\n",
    "                            ])"
   ]
  },
  {
   "cell_type": "code",
   "execution_count": 55,
   "metadata": {},
   "outputs": [
    {
     "name": "stdout",
     "output_type": "stream",
     "text": [
      "<class 'pandas.core.frame.DataFrame'>\n",
      "RangeIndex: 5 entries, 0 to 4\n",
      "Data columns (total 5 columns):\n",
      " #   Column             Non-Null Count  Dtype         \n",
      "---  ------             --------------  -----         \n",
      " 0   ChildId            5 non-null      object        \n",
      " 1   Age first contact  5 non-null      int64         \n",
      " 2   Gender             5 non-null      object        \n",
      " 3   Birthday           4 non-null      datetime64[ns]\n",
      " 4   CP Plan?           5 non-null      object        \n",
      "dtypes: datetime64[ns](1), int64(1), object(3)\n",
      "memory usage: 328.0+ bytes\n"
     ]
    }
   ],
   "source": [
    "child_info[['Birthday', 'CP Plan?']]\n",
    "\n",
    "child_info['Birthday'] = pd.to_datetime(child_info['Birthday'], format=\"%d/%m/%Y\")\n",
    "\n",
    "# if it's year month days sep. by dashes \"%Y-%m-%d\"\n",
    "\n",
    "child_info.info()\n"
   ]
  },
  {
   "cell_type": "code",
   "execution_count": null,
   "metadata": {},
   "outputs": [],
   "source": [
    "child_identifiers['PersonBirthDate'] = pd.to_datetime(child_identifiers['PersonBirthDate'], format=\"%Y-%m-%d\", errors=\"coerce\")\n",
    "child_identifiers['PersonDeathDate'] = pd.to_datetime(child_identifiers['PersonDeathDate'], format=\"%Y-%m-%d\", errors=\"coerce\")\n",
    "child_identifiers['ExpectedPersonBirthDate'] = pd.to_datetime(child_identifiers['ExpectedPersonBirthDate'], format=\"%Y-%m-%d\", errors=\"coerce\")\n",
    "\n",
    "# for column in ['PersonBirthDate', 'PersonDeathDate', 'ExpectedPersonBirthDate']:\n",
    "#     child_identifiers[column] = pd.to_datetime(child_identifiers[column], format=\"%Y-%m-%d\", errors=\"coerce\")\n",
    "# the for look is just for example and wouldn't be used in pandas\n",
    "\n",
    "child_identifiers.info()"
   ]
  },
  {
   "cell_type": "code",
   "execution_count": null,
   "metadata": {},
   "outputs": [],
   "source": [
    "child_identifiers['Age of Death'] = child_identifiers['PersonBirthDate'] - child_identifiers['PersonDeathDate']\n",
    "# child_identifiers[child_identifiers['Age of Death'].notna()]\n",
    "child_identifiers['Age of Death'] = child_identifiers['Age of Death'] / pd.Timedelta(365.25, 'd')\n",
    "child_identifiers['Age of Death'] = child_identifiers['Age of Death'].astype('int', errors='ignore')\n",
    "child_identifiers[child_identifiers['Age of Death'].notna()]"
   ]
  },
  {
   "cell_type": "code",
   "execution_count": 59,
   "metadata": {},
   "outputs": [],
   "source": [
    "# pip install openpyxl\n",
    "# this used to install new package, as this isn't part of default python installation\n",
    "\n",
    "df_dict = pd.read_excel(r\"https://github.com/data-to-insight/ERN-sessions/raw/main/data/small%20excel.xlsx\", sheet_name = None)\n",
    "# this will return all 3 cheets from the excel doc\n"
   ]
  },
  {
   "cell_type": "code",
   "execution_count": 61,
   "metadata": {},
   "outputs": [
    {
     "data": {
      "text/html": [
       "<div>\n",
       "<style scoped>\n",
       "    .dataframe tbody tr th:only-of-type {\n",
       "        vertical-align: middle;\n",
       "    }\n",
       "\n",
       "    .dataframe tbody tr th {\n",
       "        vertical-align: top;\n",
       "    }\n",
       "\n",
       "    .dataframe thead th {\n",
       "        text-align: right;\n",
       "    }\n",
       "</style>\n",
       "<table border=\"1\" class=\"dataframe\">\n",
       "  <thead>\n",
       "    <tr style=\"text-align: right;\">\n",
       "      <th></th>\n",
       "      <th>ChildID</th>\n",
       "      <th>Sex</th>\n",
       "      <th>DOB</th>\n",
       "      <th>EHCP issued</th>\n",
       "    </tr>\n",
       "  </thead>\n",
       "  <tbody>\n",
       "    <tr>\n",
       "      <th>0</th>\n",
       "      <td>id1</td>\n",
       "      <td>M</td>\n",
       "      <td>2014-12-05</td>\n",
       "      <td>N</td>\n",
       "    </tr>\n",
       "    <tr>\n",
       "      <th>1</th>\n",
       "      <td>id6</td>\n",
       "      <td>m</td>\n",
       "      <td>2016-01-06</td>\n",
       "      <td>n</td>\n",
       "    </tr>\n",
       "    <tr>\n",
       "      <th>2</th>\n",
       "      <td>id4</td>\n",
       "      <td>m</td>\n",
       "      <td>2013-11-09</td>\n",
       "      <td>Y</td>\n",
       "    </tr>\n",
       "    <tr>\n",
       "      <th>3</th>\n",
       "      <td>id3</td>\n",
       "      <td>F</td>\n",
       "      <td>2022-12-24</td>\n",
       "      <td>Y</td>\n",
       "    </tr>\n",
       "    <tr>\n",
       "      <th>4</th>\n",
       "      <td>id5</td>\n",
       "      <td>F</td>\n",
       "      <td>2020-01-15</td>\n",
       "      <td>NaN</td>\n",
       "    </tr>\n",
       "    <tr>\n",
       "      <th>5</th>\n",
       "      <td>id7</td>\n",
       "      <td>f</td>\n",
       "      <td>2022-09-17</td>\n",
       "      <td>y</td>\n",
       "    </tr>\n",
       "  </tbody>\n",
       "</table>\n",
       "</div>"
      ],
      "text/plain": [
       "  ChildID Sex        DOB EHCP issued\n",
       "0     id1   M 2014-12-05           N\n",
       "1     id6   m 2016-01-06           n\n",
       "2     id4   m 2013-11-09           Y\n",
       "3     id3   F 2022-12-24           Y\n",
       "4     id5   F 2020-01-15         NaN\n",
       "5     id7   f 2022-09-17           y"
      ]
     },
     "execution_count": 61,
     "metadata": {},
     "output_type": "execute_result"
    }
   ],
   "source": [
    "df_dict['Child Data'] # to show one sheet"
   ]
  },
  {
   "cell_type": "code",
   "execution_count": null,
   "metadata": {},
   "outputs": [],
   "source": [
    "# ci_cc = pd.merge(child_identifiers, child_characteristics, how='left', on='LAchildID', suffixes=('_ci', '_cc'))\n",
    "# ci_cc\n",
    "\n",
    "ci_cc = pd.merge(child_identifiers, child_characteristics, how='left', on=['LAchildID', 'Unnamed: 0'])\n",
    "ci_cc"
   ]
  },
  {
   "cell_type": "code",
   "execution_count": null,
   "metadata": {},
   "outputs": [],
   "source": [
    "# Have a look at the dataframes in df_dict, convert birthday column to a datetime object, merge the three tables together\n",
    "\n",
    "df_dict = pd.read_excel(r\"https://github.com/data-to-insight/ERN-sessions/raw/main/data/small%20excel.xlsx\", sheet_name=None)\n",
    "\n",
    "df_dict['Child Data']['DOB'] = pd.to_datetime(df_dict['Child Data']['DOB'], format=\"%Y-%m-%d\")\n",
    "\n",
    "df = pd.merge(df_dict['Child Data'], df_dict['Child extras'], how='left', on='ChildID')\n",
    "df = pd.merge(df, df_dict['Sheet3'], on='Assessment Code', how='left')\n",
    "\n",
    "df.info()\n",
    "\n"
   ]
  },
  {
   "cell_type": "code",
   "execution_count": null,
   "metadata": {},
   "outputs": [],
   "source": [
    "> # greater than\n",
    "< # less than\n",
    "== # equals\n",
    " \n",
    "~ # not\n",
    ">=/<= # greater equals/less equals\n",
    "!= # does not equal\n",
    " \n",
    "& # and\n",
    "| # or\n",
    " \n",
    "# .isna() / .notna()\n",
    "# .isin()\n",
    "# .str.contains()"
   ]
  },
  {
   "cell_type": "code",
   "execution_count": null,
   "metadata": {},
   "outputs": [],
   "source": [
    "condition = child_info['Age first contact'] > 5\n",
    "contact_after_5 = child_info[condition]\n",
    "contact_after_5"
   ]
  },
  {
   "cell_type": "code",
   "execution_count": null,
   "metadata": {},
   "outputs": [],
   "source": [
    "condition = (child_info['Age first contact'] > 5) | (child_info['CP Plan?'].str.lower().str.contains('n'))\n",
    "contact_after_5_cp = child_info[condition]\n",
    "contact_after_5_cp"
   ]
  }
 ],
 "metadata": {
  "kernelspec": {
   "display_name": "Python 3",
   "language": "python",
   "name": "python3"
  },
  "language_info": {
   "codemirror_mode": {
    "name": "ipython",
    "version": 3
   },
   "file_extension": ".py",
   "mimetype": "text/x-python",
   "name": "python",
   "nbconvert_exporter": "python",
   "pygments_lexer": "ipython3",
   "version": "3.10.13"
  }
 },
 "nbformat": 4,
 "nbformat_minor": 2
}
