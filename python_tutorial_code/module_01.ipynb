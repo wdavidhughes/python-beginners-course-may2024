{
 "cells": [
  {
   "cell_type": "code",
   "execution_count": 9,
   "metadata": {},
   "outputs": [
    {
     "name": "stdout",
     "output_type": "stream",
     "text": [
      "Hello world\n",
      "15\n",
      "2.0\n",
      "<class 'float'>\n",
      "<class 'int'>\n"
     ]
    }
   ],
   "source": [
    "# 17th May 2024\n",
    "# jupyter notebook good for teaching and doc but not to build app\n",
    "x = 5\n",
    "y = 10\n",
    "z = x + y\n",
    "# python will guess the data type\n",
    "# functions are lower case\n",
    "# python uses whitespace as part of the code. \n",
    "# whitespace and tabs are important\n",
    "print(\"Hello world\")\n",
    "print(z)\n",
    "\n",
    "j = y / x\n",
    "print(j) # will show decimal i.e. a float, a 64 bit \n",
    "\n",
    "print(type(j))\n",
    "print(type(z))\n",
    "# type is a class, not a function"
   ]
  },
  {
   "cell_type": "code",
   "execution_count": 14,
   "metadata": {},
   "outputs": [
    {
     "name": "stdout",
     "output_type": "stream",
     "text": [
      "240\n",
      "12.568\n"
     ]
    }
   ],
   "source": [
    "# Exercise\n",
    "a = 12\n",
    "b = 20\n",
    "c = a * b\n",
    "print(c)\n",
    "\n",
    "# calc area of a circle\n",
    "radius = 2\n",
    "pi = 3.142\n",
    "area_of_circle = pi * (radius ** 2)\n",
    "print(area_of_circle)\n"
   ]
  },
  {
   "cell_type": "code",
   "execution_count": 17,
   "metadata": {},
   "outputs": [
    {
     "name": "stdout",
     "output_type": "stream",
     "text": [
      "My name is: David, and i like rowing\n"
     ]
    }
   ],
   "source": [
    "# concatenate strings\n",
    "name = \"David\"\n",
    "hobby = \"rowing\"\n",
    "\n",
    "#create f string\n",
    "outcome = f\"My name is: {name}, and i like {hobby}\"\n",
    "print(outcome)"
   ]
  },
  {
   "cell_type": "code",
   "execution_count": 18,
   "metadata": {},
   "outputs": [
    {
     "name": "stdout",
     "output_type": "stream",
     "text": [
      "I'm David and my job title is Senior specialist\n"
     ]
    }
   ],
   "source": [
    "# exercise\n",
    "name = \"David\"\n",
    "job = \"Senior specialist\"\n",
    "name_job = f\"I'm {name} and my job title is {job}\"\n",
    "# can put other expressions into {}\n",
    "print(name_job)"
   ]
  },
  {
   "cell_type": "code",
   "execution_count": 23,
   "metadata": {},
   "outputs": [
    {
     "name": "stdout",
     "output_type": "stream",
     "text": [
      "9\n",
      "7\n",
      "456\n",
      "13579\n"
     ]
    }
   ],
   "source": [
    "# slicing strings\n",
    "# indexing starts at ZERO\n",
    "# [] for accessing slice e.g. column, row, location in a string\n",
    "\n",
    "num_string = \"123456789\"\n",
    "sub_string = num_string[8]\n",
    "print(sub_string)\n",
    "\n",
    "sub_string_right = num_string[-3] # a minus means count from the right\n",
    "print(sub_string_right)\n",
    "\n",
    "sub_range = num_string[3:-3] # start is inclusive, stop is exclusive\n",
    "print(sub_range)\n",
    "\n",
    "# step\n",
    "step_range = num_string[::2]\n",
    "print(step_range)\n",
    "\n",
    "reverse = num_string[-1::-1]"
   ]
  },
  {
   "cell_type": "code",
   "execution_count": 30,
   "metadata": {},
   "outputs": [
    {
     "name": "stdout",
     "output_type": "stream",
     "text": [
      "dog\n",
      "cat\n",
      "racoon\n"
     ]
    }
   ],
   "source": [
    "# exercise - split out the 3 words\n",
    "slice_this_phrase = \"dog cat racoon\"\n",
    "print(slice_this_phrase[0:3])\n",
    "print(slice_this_phrase[4:7])\n",
    "print(slice_this_phrase[-6:])"
   ]
  },
  {
   "cell_type": "code",
   "execution_count": null,
   "metadata": {},
   "outputs": [],
   "source": [
    "# Tutor's code\n",
    "\n",
    "# https://www.freecodecamp.org/news/tag/python/\n",
    "# https://github.com/data-to-insight/ERN-sessions\n",
    "# https://leetcode.com/\n",
    "\n",
    "# In this cell, initialise two numeric variables and find their product \n",
    "# using the * operator for multiplication and assign this to a new variable.\n",
    "# Print the new variable\n",
    "j = 30\n",
    "k = 0.5\n",
    "\n",
    "i = j * k\n",
    "print(i)\n",
    "\n",
    "# The radius of a circle is 2, assume that Pi is 3.14. Assign both of these \n",
    "# to suitably named variables and find the area of the circle.\n",
    "# We can find the area of a circle by finding the product of Pi with the radius squared.\n",
    "# You probably don't know how to square a number in Python yet, so use Google to work it out!\n",
    "\n",
    "# ** 2 (to square a number)\n",
    "\n",
    "radius = 2\n",
    "pi = 3.14\n",
    "\n",
    "area = pi * (radius ** 2)\n",
    "\n",
    "print(area)\n",
    "\n"
   ]
  },
  {
   "cell_type": "code",
   "execution_count": null,
   "metadata": {},
   "outputs": [],
   "source": [
    "name = \"Will\"\n",
    "hobby = \"Running\"\n",
    "\n",
    "outcome = \"My name is: \" + name + \", and I like \" + hobby + \".\"\n",
    "\n",
    "print(outcome)\n",
    "\n",
    "outcome_2 = f\"My name is: {name}, and I like {hobby}.\"\n",
    "\n",
    "print(outcome_2)"
   ]
  },
  {
   "cell_type": "code",
   "execution_count": null,
   "metadata": {},
   "outputs": [],
   "source": [
    "# In this cell, initialise two appropriately named variables, one for your name and one for your job title.\n",
    "# Next, combine them in an f string, assigned to a different, appropriately named variable.\n",
    "# Finally, print the f string.\n",
    "\n",
    "name = \"Will\"\n",
    "job = \"Data Manager\"\n",
    "\n",
    "name_job = f\"My name is {name}, and I am a {job}.\"\n",
    "\n",
    "print(name_job)"
   ]
  },
  {
   "cell_type": "code",
   "execution_count": null,
   "metadata": {},
   "outputs": [],
   "source": [
    "# indexing starts at 0\n",
    "\n",
    "num_string = \"123456789\"\n",
    "\n",
    "sub_string = num_string[3]\n",
    "\n",
    "print(sub_string)\n",
    "\n",
    "# minus is from rhs\n",
    "sub_string_rhs = num_string[-3]\n",
    "\n",
    "print(sub_string_rhs)\n",
    "\n",
    "# start is INCLUSIVE, stop is EXCLUSIVE\n",
    "sub_range = num_string[3:7]\n",
    "print(sub_range)\n",
    "\n",
    "# step \n",
    "step_range = num_string[::2]\n",
    "print(step_range)\n",
    "\n",
    "reverse = num_string[-1::-1]\n",
    "print(reverse)"
   ]
  },
  {
   "cell_type": "code",
   "execution_count": null,
   "metadata": {},
   "outputs": [],
   "source": [
    "# In this cell I've initialised a variable 'slice_this_phrase'. \n",
    "# On the next three lines, print the words dog, cat, and racoon seprately \n",
    "#using a slice from the beginning, a slice giving a range in the middle, and a slice from the end.\n",
    "# This means one slice will involve [:n], one will involve [n1:n2], and one will involve [-n:].\n",
    "\n",
    "slice_this_phrase = 'dog cat racoon'\n",
    "\n",
    "print(slice_this_phrase[:3])\n",
    "print(slice_this_phrase[4:7])\n",
    "print(slice_this_phrase[-6:])"
   ]
  }
 ],
 "metadata": {
  "kernelspec": {
   "display_name": "Python 3",
   "language": "python",
   "name": "python3"
  },
  "language_info": {
   "codemirror_mode": {
    "name": "ipython",
    "version": 3
   },
   "file_extension": ".py",
   "mimetype": "text/x-python",
   "name": "python",
   "nbconvert_exporter": "python",
   "pygments_lexer": "ipython3",
   "version": "3.10.13"
  }
 },
 "nbformat": 4,
 "nbformat_minor": 2
}
